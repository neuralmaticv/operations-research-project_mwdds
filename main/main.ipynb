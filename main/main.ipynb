{
 "cells": [
  {
   "cell_type": "code",
   "execution_count": 1,
   "metadata": {
    "collapsed": true
   },
   "outputs": [],
   "source": [
    "import os\n",
    "import csv\n",
    "from time import *\n",
    "\n",
    "import sys\n",
    "sys.path.insert(0, \"../scripts/\")\n",
    "\n",
    "from graphreader import read_graph\n",
    "\n",
    "from greedy import greedy_mwds, get_successors"
   ]
  },
  {
   "cell_type": "code",
   "execution_count": 2,
   "outputs": [],
   "source": [
    "dir_instances = sorted(os.listdir(\"../instances\"))"
   ],
   "metadata": {
    "collapsed": false
   }
  },
  {
   "cell_type": "code",
   "execution_count": 4,
   "outputs": [],
   "source": [
    "from pulp import *\n",
    "\n",
    "def lp_model(vertices_w, edges):\n",
    "    vertices = list(vertices_w.keys())\n",
    "\n",
    "    model = LpProblem(\"Minimum Weighted Directed Domination Set\", LpMinimize)\n",
    "\n",
    "    # definisemo varijable za cvorove u grafu\n",
    "    x = LpVariable.dicts(\"x\", vertices, lowBound=0, upBound=1, cat=LpInteger)\n",
    "\n",
    "    # dodajemo funkciju cilja\n",
    "    model += lpSum([vertices_w[i] * x[i] for i in vertices])\n",
    "\n",
    "    # dodajemo ogranicenja\n",
    "    # Svaki cvor mora biti u podskupu ili imati vezu sa nekim cvorom iz tog podskupa\n",
    "    for v in vertices:\n",
    "        constraint = x[v]\n",
    "        for e in edges:\n",
    "            if e[1] == v:\n",
    "                constraint += x[e[0]]\n",
    "        model += constraint >= 1\n",
    "\n",
    "\n",
    "    # pokrecemo model, sa ogranicenjem na 10 minuta\n",
    "    time_limit_s = 600\n",
    "    model.solve(PULP_CBC_CMD(msg=0, maxSeconds=time_limit_s))\n",
    "\n",
    "    # kreiramo dominirajuci skup\n",
    "    domination_set = []\n",
    "    for i in vertices:\n",
    "      if x[i].value() == 1:\n",
    "        domination_set.append(i)\n",
    "\n",
    "    objective_value = value(model.objective)\n",
    "\n",
    "    # vracamo dominirajuci skup i tezinu\n",
    "    return domination_set, objective_value\n"
   ],
   "metadata": {
    "collapsed": false
   }
  },
  {
   "cell_type": "code",
   "execution_count": 5,
   "outputs": [
    {
     "name": "stdout",
     "output_type": "stream",
     "text": [
      "Dimension -  level0\n",
      "Dimension -  level1\n"
     ]
    },
    {
     "name": "stderr",
     "output_type": "stream",
     "text": [
      "/home/vladimir/anaconda3/envs/operaciona_istrazivanja/lib/python3.10/site-packages/pulp/pulp.py:1352: UserWarning: Spaces are not permitted in the name. Converted to '_'\n",
      "  warnings.warn(\"Spaces are not permitted in the name. Converted to '_'\")\n",
      "/home/vladimir/anaconda3/envs/operaciona_istrazivanja/lib/python3.10/site-packages/pulp/apis/coin_api.py:95: UserWarning: Parameter maxSeconds is being depreciated for timeLimit\n",
      "  warnings.warn(\"Parameter maxSeconds is being depreciated for timeLimit\")\n"
     ]
    },
    {
     "name": "stdout",
     "output_type": "stream",
     "text": [
      "Dimension -  level2\n"
     ]
    }
   ],
   "source": [
    "# prolazak kroz razlicite dimenzije problema\n",
    "for subdir in dir_instances:\n",
    "    dim_path = os.path.join(\"../instances/\", subdir)\n",
    "    print(\"Dimension - \", subdir)\n",
    "\n",
    "    if subdir.endswith(\"0\"):\n",
    "        instance_dim = \"0\"\n",
    "        num_vertices = 5\n",
    "    elif subdir.endswith(\"1\"):\n",
    "        instance_dim = \"1\"\n",
    "        num_vertices = 300\n",
    "    else:\n",
    "        instance_dim = \"2\"\n",
    "        num_vertices = 500\n",
    "\n",
    "    with open(\"../results/results\" + instance_dim + \".csv\", \"w\", newline=\"\") as csvfile:\n",
    "        writer = csv.writer(csvfile)\n",
    "\n",
    "        # header\n",
    "        writer.writerow([\"Instances\", \"Greedy algorithm\", \"Variable neighborhood search (VNS)\", \"PuLP linar programming\"])\n",
    "\n",
    "        # prolazak kroz sve instance odredjene dimenzije\n",
    "        for instance in sorted(os.listdir(os.path.abspath(dim_path))):\n",
    "            instance_path = os.path.join(dim_path, instance)\n",
    "            vertices, edges = read_graph(instance_path, num_vertices)\n",
    "            num_edges = len(edges)\n",
    "\n",
    "            start = time()\n",
    "            set, weight = greedy_mwds(vertices, edges)\n",
    "            end = time()\n",
    "\n",
    "            elapsed = end - start\n",
    "            greedy_results = \"|Ds| = \" + str(len(set)) + \"\\n\" + \"weight = \" + str(weight) +\"\\n\" + \"T(s) = \" + f\"{elapsed:.3f}\"\n",
    "\n",
    "            start = time()\n",
    "            set, weight = lp_model(vertices, edges)\n",
    "            end = time()\n",
    "\n",
    "            elapsed = end - start\n",
    "            ilp_results = \"|Ds| = \" + str(len(set)) + \"\\n\" + \"weight = \" + str(weight) +\"\\n\" + \"T(s) = \" + f\"{elapsed:.3f}\"\n",
    "\n",
    "            instance_info = \"Instance \" + instance_dim + \"lvl\\n\" + str(\"|V| = \") + str(num_vertices) + \"\\n|E| = \" + str(num_edges)\n",
    "            writer.writerow([instance_info, greedy_results, 0, ilp_results])\n"
   ],
   "metadata": {
    "collapsed": false
   }
  }
 ],
 "metadata": {
  "kernelspec": {
   "display_name": "Python 3",
   "language": "python",
   "name": "python3"
  },
  "language_info": {
   "codemirror_mode": {
    "name": "ipython",
    "version": 2
   },
   "file_extension": ".py",
   "mimetype": "text/x-python",
   "name": "python",
   "nbconvert_exporter": "python",
   "pygments_lexer": "ipython2",
   "version": "2.7.6"
  }
 },
 "nbformat": 4,
 "nbformat_minor": 0
}
