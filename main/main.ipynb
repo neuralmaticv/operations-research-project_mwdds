{
 "cells": [
  {
   "cell_type": "code",
   "execution_count": 3,
   "metadata": {
    "collapsed": true
   },
   "outputs": [],
   "source": [
    "import os\n",
    "import csv\n",
    "from time import *\n",
    "\n",
    "from greedy import greedy_mwds\n",
    "\n",
    "from lp_model import lp_model\n",
    "from genetic_algorithm import GeneticAlgorithm\n",
    "from numpy import mean, std"
   ]
  },
  {
   "cell_type": "code",
   "execution_count": 4,
   "outputs": [],
   "source": [
    "import networkx as nx, random\n",
    "\"\"\"\"\n",
    "Funkcija koja se koristi za citanje/generisanje grafa\n",
    "\"\"\"\n",
    "\n",
    "def gen_graph_from_edges(instance_path):\n",
    "    edges = []\n",
    "    with open(instance_path, 'r') as f:\n",
    "        for line in f:\n",
    "            fields = line.strip().split()\n",
    "            source, target = fields\n",
    "            edges.append((int(source), int(target)))\n",
    "\n",
    "    for i in range(len(edges)):\n",
    "            edges[i] = (edges[i][0] - 1, edges[i][1] - 1)\n",
    "\n",
    "    G = nx.Graph(edges)\n",
    "    weights = [random.randint(20, 70) for i in range(len(G.nodes))]\n",
    "    vertices_w = dict(zip(G.nodes, weights))\n",
    "\n",
    "    return vertices_w, edges"
   ],
   "metadata": {
    "collapsed": false
   }
  },
  {
   "cell_type": "code",
   "execution_count": 5,
   "outputs": [],
   "source": [
    "dir_instances = sorted(os.listdir(\"../instances\"))"
   ],
   "metadata": {
    "collapsed": false
   }
  },
  {
   "cell_type": "code",
   "execution_count": 2,
   "outputs": [
    {
     "ename": "NameError",
     "evalue": "name 'dir_instances' is not defined",
     "output_type": "error",
     "traceback": [
      "\u001B[0;31m---------------------------------------------------------------------------\u001B[0m",
      "\u001B[0;31mNameError\u001B[0m                                 Traceback (most recent call last)",
      "Cell \u001B[0;32mIn [2], line 1\u001B[0m\n\u001B[0;32m----> 1\u001B[0m \u001B[38;5;28;01mfor\u001B[39;00m subdir \u001B[38;5;129;01min\u001B[39;00m \u001B[43mdir_instances\u001B[49m:\n\u001B[1;32m      2\u001B[0m     dim_path \u001B[38;5;241m=\u001B[39m os\u001B[38;5;241m.\u001B[39mpath\u001B[38;5;241m.\u001B[39mjoin(\u001B[38;5;124m\"\u001B[39m\u001B[38;5;124m../instances/\u001B[39m\u001B[38;5;124m\"\u001B[39m, subdir)\n\u001B[1;32m      4\u001B[0m     \u001B[38;5;28;01mif\u001B[39;00m subdir\u001B[38;5;241m.\u001B[39mendswith(\u001B[38;5;124m\"\u001B[39m\u001B[38;5;124m0\u001B[39m\u001B[38;5;124m\"\u001B[39m):\n",
      "\u001B[0;31mNameError\u001B[0m: name 'dir_instances' is not defined"
     ]
    }
   ],
   "source": [
    "for subdir in dir_instances:\n",
    "    dim_path = os.path.join(\"../instances/\", subdir)\n",
    "\n",
    "    if subdir.endswith(\"0\"):\n",
    "        instance_dim = \"0\"\n",
    "    elif subdir.endswith(\"1\"):\n",
    "        instance_dim = \"1\"\n",
    "    elif subdir.endswith(\"2\"):\n",
    "        instance_dim = \"2\"\n",
    "\n",
    "\n",
    "    with open(\"../results/results\" + instance_dim + \".csv\", \"w\", newline=\"\") as csvfile:\n",
    "        writer = csv.writer(csvfile)\n",
    "\n",
    "        # header\n",
    "        writer.writerow([\"Instances\", \"Greedy algorithm\", \"Genetic algorithm\", \"PuLP linear programming\"])\n",
    "        instance_info = \"\"\n",
    "\n",
    "        # prolazak kroz sve instance odredjene dimenzije\n",
    "        for instance in sorted(os.listdir(os.path.abspath(dim_path))):\n",
    "            if instance != \"imgs\":\n",
    "                instance_path = os.path.join(dim_path, instance)\n",
    "\n",
    "                if dim_path.endswith(\"0\"):\n",
    "                    num_vertices = 5\n",
    "                    instance_info = instance.split(\".txt\")[0]\n",
    "                else:\n",
    "                    if instance.__contains__(\"200\"):\n",
    "                        num_vertices = 200\n",
    "                        instance_info = instance.split(\".clq\")[0]\n",
    "                        break\n",
    "                    elif instance.__contains__(\"300\"):\n",
    "                        num_vertices = 300\n",
    "                        instance_info = instance.split(\".clq\")[0]\n",
    "                        break\n",
    "                    elif instance.__contains__(\"400\"):\n",
    "                        num_vertices = 400\n",
    "                        instance_info = instance.split(\".clq\")[0]\n",
    "                        break\n",
    "                    elif instance.__contains__(\"500\"):\n",
    "                        num_vertices = 500\n",
    "                        instance_info = instance.split(\".clq\")[0]\n",
    "                        break\n",
    "\n",
    "                vertices_w, edges = gen_graph_from_edges(instance_path)\n",
    "\n",
    "                num_vertices = len(vertices_w)\n",
    "                num_edges = len(edges)\n",
    "\n",
    "                start = time()\n",
    "                set, weight = greedy_mwds(vertices_w, edges)\n",
    "                end = time()\n",
    "                elapsed = end - start\n",
    "                greedy_results = \"|Ds| = \" + str(len(set)) + \"\\n\" + \"weight = \" + str(weight) +\"\\n\" + \"T(s) = \" + f\"{elapsed:.3f}\"\n",
    "                print(\"Greedy \", instance, \" done\")\n",
    "\n",
    "                start = time()\n",
    "                set, weight = lp_model(vertices_w, edges)\n",
    "                end = time()\n",
    "                elapsed = end - start\n",
    "                ilp_results = \"|Ds| = \" + str(len(set)) + \"\\n\" + \"weight = \" + str(weight) +\"\\n\" + \"T(s) = \" + f\"{elapsed:.3f}\"\n",
    "                print(\"PuLP \", instance, \" done\")\n",
    "\n",
    "\n",
    "                solutions = []\n",
    "                times = []\n",
    "                for i in range(10):\n",
    "                    ga = GeneticAlgorithm(vertices_w, edges, population_size=100, chromosome_length=num_vertices, mutation_rate=0.05, n_generations=100, max_time=600)\n",
    "                    start = time()\n",
    "                    solution = ga.run()\n",
    "                    end = time()\n",
    "                    solutions.append(solution)\n",
    "                    times.append(end - start)\n",
    "\n",
    "                ds = [s.fitness[0] for s in solutions]\n",
    "                min_index = ds.index(min(ds))\n",
    "                min_wds = len([i for i in solutions[min_index].chromosome if i == 1])\n",
    "                ga_results = \"|Ds| = \" + str(min_wds) + \"\\nmean = \" + str(mean(ds)) + \"\\nmax = \" + str(max(ds)) + \"\\nmin =\" + str(min(ds)) + \"\\nsd = \" + str(round(std(ds), 3)) +\"\\nmean(T) = \", str(round(mean(times), 3))\n",
    "\n",
    "                print(\"GA \", instance, \" done\")\n",
    "\n",
    "                instance_info += str(\"\\n|V| = \") + str(num_vertices) + \"\\n|E| = \" + str(num_edges)\n",
    "                writer.writerow([instance_info, greedy_results, ga_results, ilp_results])\n"
   ],
   "metadata": {
    "collapsed": false
   }
  }
 ],
 "metadata": {
  "kernelspec": {
   "display_name": "Python 3",
   "language": "python",
   "name": "python3"
  },
  "language_info": {
   "codemirror_mode": {
    "name": "ipython",
    "version": 2
   },
   "file_extension": ".py",
   "mimetype": "text/x-python",
   "name": "python",
   "nbconvert_exporter": "python",
   "pygments_lexer": "ipython2",
   "version": "2.7.6"
  }
 },
 "nbformat": 4,
 "nbformat_minor": 0
}
