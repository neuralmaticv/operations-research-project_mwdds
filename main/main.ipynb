{
 "cells": [
  {
   "cell_type": "code",
   "execution_count": 2,
   "metadata": {},
   "outputs": [],
   "source": [
    "import os\n",
    "import csv\n",
    "from time import *\n",
    "\n",
    "from numpy import mean, std\n",
    "\n",
    "from greedy_algorithm import greedy_solver\n",
    "from ilp_model import ilp_solver\n",
    "from genetic_algorithm import GeneticAlgorithm\n",
    "\n",
    "from scripts.graph_reader import read_graph\n",
    "from scripts.graph_plotter import plot_graph"
   ]
  },
  {
   "cell_type": "code",
   "execution_count": 3,
   "metadata": {},
   "outputs": [],
   "source": [
    "dir_instances = sorted(os.listdir(\"../instances\"))"
   ]
  },
  {
   "cell_type": "code",
   "execution_count": 4,
   "metadata": {},
   "outputs": [],
   "source": [
    "def solve(include_greedy, include_ilp, include_ga, ga_selection_method, ga_crossover_rate, ga_mutation_rate, ga_logger):\n",
    "    for subdir in dir_instances:\n",
    "        dim_path = os.path.join(\"../instances/\", dir_instances)\n",
    "        instance_dim = \"\"\n",
    "\n",
    "        if subdir.endswith(\"0\"):\n",
    "           instance_dim = \"0\"\n",
    "        elif subdir.endswith(\"1\"):\n",
    "           instance_dim = \"1\"\n",
    "        elif subdir.endswith(\"2\"):\n",
    "            instance_dim = \"2\"\n",
    "\n",
    "        with open(\"../results/results\" + instance_dim + \".csv\", \"w\", newline=\"\") as csvfile:\n",
    "            writer = csv.writer(csvfile)\n",
    "\n",
    "            # header\n",
    "            writer.writerow([\"Instances\", \"Greedy algorithm\", \"ILP\", \"Genetic algorithm\"])\n",
    "            instance_info = \"\"\n",
    "\n",
    "            # prolazak kroz sve instance odredjene dimenzije\n",
    "            for instance in sorted(os.listdir(os.path.abspath(dim_path))):\n",
    "                if instance != \"imgs\":\n",
    "                    instance_path = os.path.join(dim_path, instance)\n",
    "\n",
    "                    if dim_path.endswith(\"0\"):\n",
    "                        instance_info = instance.split(\".txt\")[0]\n",
    "                    else:\n",
    "                        instance_info = instance.split(\".clq\")[0]\n",
    "\n",
    "                    vertices_w, edges = read_graph(instance_path, False)\n",
    "\n",
    "                    num_vertices = len(vertices_w)\n",
    "                    num_edges = len(edges)\n",
    "\n",
    "\n",
    "                    if include_greedy:\n",
    "                        start = time()\n",
    "                        dominating_set, weight = greedy_solver(vertices_w, edges)\n",
    "                        end = time()\n",
    "                        elapsed = end - start\n",
    "                        greedy_results = \"|Ds| = \" + str(len(dominating_set)) + \"\\nweight = \" + str(weight) +\"\\nT(s) = \" + f\"{elapsed:.3f}\"\n",
    "                        print(\"Greedy \", instance, \" done\")\n",
    "                    else:\n",
    "                        greedy_results = 0\n",
    "\n",
    "\n",
    "                    if include_ilp:\n",
    "                        start = time()\n",
    "                        dominating_set, weight = ilp_solver(vertices_w, edges)\n",
    "                        end = time()\n",
    "                        elapsed = end - start\n",
    "                        ilp_results = \"|Ds| = \" + str(len(dominating_set)) + \"\\nweight = \" + str(weight) +\"\\nT(s) = \" + f\"{elapsed:.3f}\"\n",
    "                        print(\"ILP \", instance, \" done\")\n",
    "                    else:\n",
    "                        ilp_results = 0\n",
    "\n",
    "                    if include_ga:\n",
    "                        solutions = []\n",
    "                        times = []\n",
    "                        for i in range(2):\n",
    "                            ga = GeneticAlgorithm(vertices_w, edges, population_size=40, chromosome_length=num_vertices, selection_method=ga_selection_method, crossover_rate=ga_crossover_rate, mutation_rate=ga_mutation_rate, n_generations=100, max_time=600, logger=ga_logger)\n",
    "                            start = time()\n",
    "                            solution = ga.run()\n",
    "                            end = time()\n",
    "                            solutions.append(solution)\n",
    "                            times.append(end - start)\n",
    "\n",
    "                        dominating_set = [s.fitness[0] for s in solutions]\n",
    "                        min_index = dominating_set.index(min(dominating_set))\n",
    "                        min_wds = len([i for i in solutions[min_index].chromosome if i == 1])\n",
    "                        ga_results = \"|Ds| = \" + str(min_wds) + \"\\nmean = \" + str(mean(dominating_set)) + \"\\nmax = \" + str(max(dominating_set)) + \"\\nmin = \" + str(min(dominating_set)) + \"\\nsd = \" + str(round(std(dominating_set), 3)) +\"\\nmean(T) = \" + str(round(mean(times), 3))\n",
    "\n",
    "                        print(\"GA \", instance, \" done\")\n",
    "                    else:\n",
    "                        ga_results = 0\n",
    "\n",
    "                    instance_info += str(\"\\n|V| = \") + str(num_vertices) + \"\\n|E| = \" + str(num_edges)\n",
    "                    writer.writerow([instance_info, greedy_results, ilp_results, ga_results])\n"
   ]
  },
  {
   "cell_type": "code",
   "execution_count": 1,
   "metadata": {},
   "outputs": [],
   "source": [
    "solve(include_greedy=False, include_ilp=False, include_ga=True, ga_selection_method=\"tournament\", ga_crossover_rate=0.8, ga_mutation_rate=0.01, ga_logger=False)"
   ]
  },
  {
   "cell_type": "code",
   "execution_count": null,
   "outputs": [],
   "source": [],
   "metadata": {
    "collapsed": false
   }
  }
 ],
 "metadata": {
  "kernelspec": {
   "display_name": "Python 3 (ipykernel)",
   "language": "python",
   "name": "python3"
  },
  "language_info": {
   "codemirror_mode": {
    "name": "ipython",
    "version": 3
   },
   "file_extension": ".py",
   "mimetype": "text/x-python",
   "name": "python",
   "nbconvert_exporter": "python",
   "pygments_lexer": "ipython3",
   "version": "3.10.8"
  }
 },
 "nbformat": 4,
 "nbformat_minor": 1
}
